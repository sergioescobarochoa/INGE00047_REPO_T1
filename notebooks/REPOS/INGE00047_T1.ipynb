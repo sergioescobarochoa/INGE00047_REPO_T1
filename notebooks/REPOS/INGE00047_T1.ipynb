{
 "cells": [
  {
   "cell_type": "markdown",
   "metadata": {},
   "source": [
    "# **Descripción del repositorio**:\n",
    "\n",
    "Este repositorio contiene un cuaderno Colab que te permite practicar los comandos básicos de Python. El cuaderno está dividido en varias secciones, cada una de las cuales cubre un tema específico.\n",
    "\n",
    "# Introducción a Python\n",
    "Esta sección te presenta los conceptos básicos de Python, como variables, tipos de datos, operadores y estructuras de control."
   ]
  },
  {
   "cell_type": "code",
   "execution_count": 1,
   "metadata": {},
   "outputs": [
    {
     "name": "stdout",
     "output_type": "stream",
     "text": [
      "Resultado es mayor a 10\n"
     ]
    }
   ],
   "source": [
    "# Variables y tipos de datos\n",
    "x = 5  # Entero\n",
    "y = 7.3  # Flotante\n",
    "z = \"Hola\"  # Cadena\n",
    "\n",
    "# Operadores\n",
    "resultado = x + y  # Suma\n",
    "resultado2 = x * y  # Multiplicación\n",
    "resultado3 = x / y  # División\n",
    "resultado4 = x % y  # Módulo\n",
    "resultado5 = x ** y  # Exponenciación / Potencia\n",
    "resultado6 = x // y  # División entera\n",
    "\n",
    "# Estructuras de control\n",
    "if resultado > 10:\n",
    "    print(\"Resultado es mayor a 10\")\n",
    "elif resultado == 10:\n",
    "    print(\"Resultado es igual a 10\")\n",
    "else:\n",
    "    print(\"Resultado es menor a 10\")"
   ]
  },
  {
   "cell_type": "markdown",
   "metadata": {},
   "source": [
    "# Operaciones matemáticas\n",
    "Esta sección te enseña a realizar operaciones matemáticas básicas con Python, como suma, resta, multiplicación y división."
   ]
  },
  {
   "cell_type": "code",
   "execution_count": null,
   "metadata": {},
   "outputs": [],
   "source": [
    "# Suma\n",
    "suma = 5 + 7\n",
    "\n",
    "# Resta\n",
    "resta = 5 - 7\n",
    "\n",
    "# Multiplicación\n",
    "multiplicacion = 5 * 7\n",
    "\n",
    "# División\n",
    "division = 5 / 7\n",
    "\n",
    "# División entera\n",
    "division_entera = 5 // 7\n",
    "\n",
    "# Módulo\n",
    "modulo = 5 % 7\n",
    "\n",
    "# Exponenciación\n",
    "exponenciacion = 5 ** 7\n",
    "\n",
    "print(\"Suma:\", suma)\n",
    "print(\"Resta:\", resta)\n",
    "print(\"Multiplicación:\", multiplicacion)\n",
    "print(\"División:\", division)\n",
    "print(\"División entera:\", division_entera)\n",
    "print(\"Módulo:\", modulo)\n",
    "print(\"Potencia:\", exponenciacion)"
   ]
  },
  {
   "cell_type": "markdown",
   "metadata": {},
   "source": [
    "# Listas\n",
    "Esta sección te enseña cómo crear, manipular y acceder a elementos en listas de Python."
   ]
  },
  {
   "cell_type": "code",
   "execution_count": null,
   "metadata": {},
   "outputs": [],
   "source": [
    "# Creación\n",
    "lista = [1, 2, 3, 4, 5]\n",
    "\n",
    "# Acceso a elementos\n",
    "primer_elemento = lista[0]\n",
    "ultimo_elemento = lista[-1]\n",
    "\n",
    "# Manipulación\n",
    "lista[0] = 10\n",
    "lista.append(6)\n",
    "lista.insert(2, 15)\n",
    "lista.remove(15)\n",
    "lista.pop()\n",
    "\n",
    "# Longitud\n",
    "longitud = len(lista)\n",
    "\n",
    "print(\"Primer elemento:\", primer_elemento)\n",
    "print(\"Último elemento:\", ultimo_elemento)\n",
    "print(\"Lista:\", lista)\n",
    "print(\"Longitud:\", longitud)"
   ]
  },
  {
   "cell_type": "markdown",
   "metadata": {},
   "source": [
    "# Función\n",
    "\n",
    "Esta sección te muestra cómo definir y utilizar funciones en Python."
   ]
  },
  {
   "cell_type": "code",
   "execution_count": null,
   "metadata": {},
   "outputs": [],
   "source": [
    "# Definición\n",
    "def suma(a, b):\n",
    "    return a + b\n",
    "\n",
    "# Utilización\n",
    "resultado = suma(5, 7)\n",
    "\n",
    "print(\"Resultado:\", resultado)"
   ]
  },
  {
   "cell_type": "markdown",
   "metadata": {},
   "source": [
    "# Archivos de texto\n",
    "Esta sección te enseña cómo leer y escribir archivos en Python.\n",
    "\n"
   ]
  },
  {
   "cell_type": "code",
   "execution_count": null,
   "metadata": {},
   "outputs": [],
   "source": [
    "# Lectura\n",
    "with open(\"archivo.txt\", \"r\") as archivo:\n",
    "    contenido = archivo.read()\n",
    "\n",
    "# Escritura\n",
    "with open(\"archivo.txt\", \"w\") as archivo:\n",
    "    archivo.write(\"Hola mundo\")"
   ]
  },
  {
   "cell_type": "markdown",
   "metadata": {},
   "source": [
    "# Gráficas de barras\n",
    "Esta sección te muestra cómo crear gráficas de barras en Python utilizando la librería .**matplotlib**"
   ]
  },
  {
   "cell_type": "code",
   "execution_count": null,
   "metadata": {},
   "outputs": [],
   "source": [
    "import matplotlib.pyplot as plt\n",
    "\n",
    "# Datos\n",
    "datos = [5, 10, 15, 20, 25]\n",
    "\n",
    "# Creación\n",
    "plt.bar(range(len(datos)), datos)\n",
    "\n",
    "# Mostrar\n",
    "plt.show()"
   ]
  },
  {
   "cell_type": "markdown",
   "metadata": {},
   "source": [
    "# Gráficas de dispersión\n",
    "Esta sección te muestra cómo crear gráficas de dispersión en Python utilizando la librería .**matplotlib**"
   ]
  },
  {
   "cell_type": "code",
   "execution_count": null,
   "metadata": {},
   "outputs": [],
   "source": [
    "import matplotlib.pyplot as plt\n",
    "\n",
    "# Datos\n",
    "x = [1, 2, 3, 4, 5]\n",
    "y = [2, 3, 5, 7, 11]\n",
    "\n",
    "# Creación\n",
    "plt.scatter(x, y)\n",
    "\n",
    "# Mostrar\n",
    "plt.show()"
   ]
  },
  {
   "cell_type": "markdown",
   "metadata": {},
   "source": [
    "# Gráficas circulares\n",
    "Esta sección te muestra cómo crear gráficas circulares en Python utilizando la librería .**matplotlib**"
   ]
  },
  {
   "cell_type": "code",
   "execution_count": null,
   "metadata": {},
   "outputs": [],
   "source": [
    "import matplotlib.pyplot as plt\n",
    "\n",
    "# Datos\n",
    "datos = [5, 10, 15, 20]\n",
    "\n",
    "# Creación\n",
    "plt.pie(datos)\n",
    "\n",
    "# Mostrar\n",
    "plt.show()"
   ]
  },
  {
   "cell_type": "markdown",
   "metadata": {},
   "source": [
    "# Archivos de Excel\n",
    "Esta sección te muestra cómo leer y escribir archivos de Excel en Python utilizando la librería .**pandas**"
   ]
  },
  {
   "cell_type": "code",
   "execution_count": null,
   "metadata": {},
   "outputs": [],
   "source": [
    "import pandas as pd\n",
    "\n",
    "# Lectura\n",
    "df = pd.read_excel(\"archivo.xlsx\")\n",
    "\n",
    "# Escritura\n",
    "df.to_excel(\"archivo.xlsx\", index=False)"
   ]
  },
  {
   "cell_type": "markdown",
   "metadata": {},
   "source": [
    "# Gráficas en archivos de Excel\n",
    "Esta sección te muestra cómo crear gráficas en archivos de Excel en Python utilizando la librería y .**pandas** .**matplotlib**"
   ]
  },
  {
   "cell_type": "code",
   "execution_count": null,
   "metadata": {},
   "outputs": [],
   "source": [
    "import pandas as pd\n",
    "import matplotlib.pyplot as plt\n",
    "\n",
    "# Datos\n",
    "datos = [5, 10, 15, 20]\n",
    "\n",
    "# Creación de DataFrame\n",
    "df = pd.DataFrame(datos, columns=[\"Valores\"])\n",
    "\n",
    "# Creación de gráfica\n",
    "df.plot(kind=\"bar\")\n",
    "\n",
    "# Mostrar gráfica\n",
    "plt.show()\n",
    "\n",
    "# Guardar gráfica en archivo de Excel\n",
    "df.plot(kind=\"bar\", title=\"Gráfica de barras\", xlabel=\"Eje X\", ylabel=\"Eje Y\")\n",
    "plt.savefig(\"grafica.png\")"
   ]
  },
  {
   "cell_type": "markdown",
   "metadata": {},
   "source": [
    "# Abrir archivo de excel desde drive\n",
    "Ejemplo de cómo leer un archivo de Excel guardado en Google Drive usando Python y la biblioteca: .**pandas**"
   ]
  },
  {
   "cell_type": "code",
   "execution_count": null,
   "metadata": {},
   "outputs": [],
   "source": [
    "from google.colab import drive\n",
    "drive.mount('/content/drive')\n",
    "\n",
    "import pandas as pd\n",
    "\n",
    "file_path = '/content/drive/MyDrive/example.xlsx' # replace with your file path\n",
    "df = pd.read_excel(file_path)\n",
    "\n",
    "print(df.head())"
   ]
  }
 ],
 "metadata": {
  "kernelspec": {
   "display_name": "Python 3",
   "language": "python",
   "name": "python3"
  },
  "language_info": {
   "codemirror_mode": {
    "name": "ipython",
    "version": 3
   },
   "file_extension": ".py",
   "mimetype": "text/x-python",
   "name": "python",
   "nbconvert_exporter": "python",
   "pygments_lexer": "ipython3",
   "version": "3.10.13"
  }
 },
 "nbformat": 4,
 "nbformat_minor": 2
}
